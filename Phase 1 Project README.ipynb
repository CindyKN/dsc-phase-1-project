{
 "cells": [
  {
   "cell_type": "markdown",
   "metadata": {},
   "source": [
    "# Microsoft Movie Industry Analysis"
   ]
  },
  {
   "cell_type": "markdown",
   "metadata": {},
   "source": [
    "# Overview\n",
    "This project aims to conduct a comprehensive analysis of the movie industry to provide insights to Microsoft, which plans to start creating original video content. The analysis focuses on factors affecting the movie industry from a production studio's perspective. By examining historical movie data, this project aims to identify trends, patterns, and key factors that contribute to the success of movies, allowing Microsoft to make informed decisions and strategic investments in its new venture."
   ]
  },
  {
   "cell_type": "markdown",
   "metadata": {},
   "source": [
    "# Table of Contents\n",
    "-Project Overview\n",
    "-Table of Contents\n",
    "-Data Sources\n",
    "-Project Structure\n",
    "-Installation\n",
    "-Usage\n",
    "-Findings\n",
    "-Conclusion\n",
    "-Future Enhancements\n",
    "-Contributing"
   ]
  },
  {
   "cell_type": "markdown",
   "metadata": {},
   "source": [
    "# Data Sources\n",
    "The data used for this analysis comes from various sources within the movie industry, including publicly available datasets, movie databases, and box office records. The datasets are from IMDB, Box Office Mojo, The Numbers, TMDB just to metion a few. They provide information on ratings, production budgets, domestic and worldwide return on investment, best performing movies, time and date of release and production studios as well. They are as follows:\n",
    "* [Box Office Mojo](https://www.boxofficemojo.com/)\n",
    "* [IMDB](https://www.imdb.com/)\n",
    "* [Rotten Tomatoes](https://www.rottentomatoes.com/)\n",
    "* [TheMovieDB](https://www.themoviedb.org/)\n",
    "* [The Numbers](https://www.the-numbers.com/)"
   ]
  },
  {
   "cell_type": "markdown",
   "metadata": {},
   "source": [
    "# Project Structure\n",
    "The project repository is organized as follows:\n",
    "* zippedData/                                             # Contains raw data files used for analysis\n",
    "* Phase 1 Project README                                  # Contains a description of the project 'Phase 1 Project.ipnyb'\n",
    "* Phase 1 Project Pdf                                     # This is a pdf version of the project 'Phase 1 Project.ipnyb'\n",
    "* Phase 1 Project.ipnyb                                   # This is a Jupyter Notebook containing the actual project and code used.\n",
    "* Entering the Film Industry-A Microsoft Perspective.ppt  # This is a presentation of the project\n",
    "* Entering the Film Industry-A Microsoft Perspective.pdf  # This is the pdf version of the powerpoint(.ppt) presentation\n",
    "* README.md                                               # This is an instruction manual for the project\n",
    "* 0xh0p7pn.png                                            # This the image download used in the Phase 1 Project.ipnyb notebook\n",
    "* merged_data.csv                                         # This is a data file containing merged data files from zippedData\n"
   ]
  },
  {
   "cell_type": "markdown",
   "metadata": {},
   "source": [
    "# Installation\n",
    "To set up the project and its dependencies, follow these steps:\n",
    "\n",
    "Clone this GitHub repository to your local machine.\n",
    "Navigate to the project directory.\n"
   ]
  },
  {
   "cell_type": "markdown",
   "metadata": {},
   "source": [
    "# Usage\n",
    "After setting up the project, follow the steps outlined in the README.md file available in the notebooks/ directory. These notebooks provide step-by-step instructions on what is required from the analysis."
   ]
  },
  {
   "cell_type": "markdown",
   "metadata": {},
   "source": [
    "# Findings\n",
    "The analysis of the movie industry from a production studio's perspective yielded the following key findings:\n",
    "\n",
    "*Genre Insights: Certain genres have consistently performed better than others in terms of revenue and audience reception. Microsoft can use this information to target genres that align with its brand and audience preferences.\n",
    "\n",
    "*Budget and Revenue Correlation: There is a correlation between a movie's budget and its revenue, but it is not always a direct relationship. Strategic budgeting and investment decisions are crucial for maximizing returns.\n",
    "\n",
    "*Release Timing: The timing of a movie's release can impact its success. Avoiding crowded release windows and targeting specific seasons or holidays can improve a movie's chances of performing well.\n",
    "\n",
    "*Rating Influence: Audience and critic ratings play a significant role in a movie's success. High-quality content that resonates with viewers can lead to positive word-of-mouth and long-term success."
   ]
  },
  {
   "cell_type": "markdown",
   "metadata": {},
   "source": [
    "# Conclusion\n",
    "The Microsoft Movie Industry Analysis provides valuable insights into the factors affecting the movie industry from a production studio's standpoint. By leveraging these findings, Microsoft can make data-driven decisions to create compelling original video content that resonates with audiences and achieves commercial success."
   ]
  },
  {
   "cell_type": "markdown",
   "metadata": {},
   "source": [
    "# Future Enhancements\n",
    "While this analysis offers significant insights, there are opportunities for further exploration and enhancements:\n",
    "\n",
    "*Competitor Analysis: Analyzing competitors' strategies and successes can provide additional context and help Microsoft differentiate its content in the market.\n",
    "\n",
    "*Marketing and Promotion Strategies: Investigating successful marketing and promotion strategies can support Microsoft in effectively reaching its target audience.\n",
    "\n",
    "*Cultural and Regional Preferences: Considering cultural and regional preferences can help tailor content for specific markets and international audiences."
   ]
  }
 ],
 "metadata": {
  "kernelspec": {
   "display_name": "Python 3",
   "language": "python",
   "name": "python3"
  },
  "language_info": {
   "codemirror_mode": {
    "name": "ipython",
    "version": 3
   },
   "file_extension": ".py",
   "mimetype": "text/x-python",
   "name": "python",
   "nbconvert_exporter": "python",
   "pygments_lexer": "ipython3",
   "version": "3.8.5"
  }
 },
 "nbformat": 4,
 "nbformat_minor": 5
}
